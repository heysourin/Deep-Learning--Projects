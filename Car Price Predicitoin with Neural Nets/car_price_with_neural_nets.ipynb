{
  "nbformat": 4,
  "nbformat_minor": 0,
  "metadata": {
    "colab": {
      "provenance": [],
      "authorship_tag": "ABX9TyOewKUDIpNSP1nzzWZQQOuQ",
      "include_colab_link": true
    },
    "kernelspec": {
      "name": "python3",
      "display_name": "Python 3"
    },
    "language_info": {
      "name": "python"
    }
  },
  "cells": [
    {
      "cell_type": "markdown",
      "metadata": {
        "id": "view-in-github",
        "colab_type": "text"
      },
      "source": [
        "<a href=\"https://colab.research.google.com/github/heysourin/Deep-Learning-Projects/blob/main/Car%20Price%20Predicitoin%20with%20Neural%20Nets/car_price_with_neural_nets.ipynb\" target=\"_parent\"><img src=\"https://colab.research.google.com/assets/colab-badge.svg\" alt=\"Open In Colab\"/></a>"
      ]
    },
    {
      "cell_type": "code",
      "execution_count": 284,
      "metadata": {
        "id": "cITmc-MJi2JU"
      },
      "outputs": [],
      "source": [
        "import numpy as np\n",
        "import pandas as pd\n",
        "import matplotlib.pyplot as plt"
      ]
    },
    {
      "cell_type": "code",
      "source": [
        "df = pd.read_csv('/content/second-hand-car.csv')"
      ],
      "metadata": {
        "id": "npwTZBP9jFFn"
      },
      "execution_count": 285,
      "outputs": []
    },
    {
      "cell_type": "code",
      "source": [
        "df.shape"
      ],
      "metadata": {
        "colab": {
          "base_uri": "https://localhost:8080/"
        },
        "id": "FJp1RgEJkOUG",
        "outputId": "3218caf3-cf12-471a-9bed-5ce1ece2d83b"
      },
      "execution_count": 286,
      "outputs": [
        {
          "output_type": "execute_result",
          "data": {
            "text/plain": [
              "(1000, 12)"
            ]
          },
          "metadata": {},
          "execution_count": 286
        }
      ]
    },
    {
      "cell_type": "code",
      "source": [
        "df.head()"
      ],
      "metadata": {
        "colab": {
          "base_uri": "https://localhost:8080/",
          "height": 261
        },
        "id": "dswzsX3FjJMM",
        "outputId": "93abffd3-f7e6-4c3f-8f29-986ad2988820"
      },
      "execution_count": 287,
      "outputs": [
        {
          "output_type": "execute_result",
          "data": {
            "text/plain": [
              "   v.id  on road old  on road now  years      km  rating  condition  economy  \\\n",
              "0     1       535651       798186      3   78945       1          2       14   \n",
              "1     2       591911       861056      6  117220       5          9        9   \n",
              "2     3       686990       770762      2  132538       2          8       15   \n",
              "3     4       573999       722381      4  101065       4          3       11   \n",
              "4     5       691388       811335      6   61559       3          9       12   \n",
              "\n",
              "   top speed  hp  torque  current price  \n",
              "0        177  73     123       351318.0  \n",
              "1        148  74      95       285001.5  \n",
              "2        181  53      97       215386.0  \n",
              "3        197  54     116       244295.5  \n",
              "4        160  53     105       531114.5  "
            ],
            "text/html": [
              "\n",
              "  <div id=\"df-5fad4ad7-9091-4fd2-9909-5ca36398a1a4\" class=\"colab-df-container\">\n",
              "    <div>\n",
              "<style scoped>\n",
              "    .dataframe tbody tr th:only-of-type {\n",
              "        vertical-align: middle;\n",
              "    }\n",
              "\n",
              "    .dataframe tbody tr th {\n",
              "        vertical-align: top;\n",
              "    }\n",
              "\n",
              "    .dataframe thead th {\n",
              "        text-align: right;\n",
              "    }\n",
              "</style>\n",
              "<table border=\"1\" class=\"dataframe\">\n",
              "  <thead>\n",
              "    <tr style=\"text-align: right;\">\n",
              "      <th></th>\n",
              "      <th>v.id</th>\n",
              "      <th>on road old</th>\n",
              "      <th>on road now</th>\n",
              "      <th>years</th>\n",
              "      <th>km</th>\n",
              "      <th>rating</th>\n",
              "      <th>condition</th>\n",
              "      <th>economy</th>\n",
              "      <th>top speed</th>\n",
              "      <th>hp</th>\n",
              "      <th>torque</th>\n",
              "      <th>current price</th>\n",
              "    </tr>\n",
              "  </thead>\n",
              "  <tbody>\n",
              "    <tr>\n",
              "      <th>0</th>\n",
              "      <td>1</td>\n",
              "      <td>535651</td>\n",
              "      <td>798186</td>\n",
              "      <td>3</td>\n",
              "      <td>78945</td>\n",
              "      <td>1</td>\n",
              "      <td>2</td>\n",
              "      <td>14</td>\n",
              "      <td>177</td>\n",
              "      <td>73</td>\n",
              "      <td>123</td>\n",
              "      <td>351318.0</td>\n",
              "    </tr>\n",
              "    <tr>\n",
              "      <th>1</th>\n",
              "      <td>2</td>\n",
              "      <td>591911</td>\n",
              "      <td>861056</td>\n",
              "      <td>6</td>\n",
              "      <td>117220</td>\n",
              "      <td>5</td>\n",
              "      <td>9</td>\n",
              "      <td>9</td>\n",
              "      <td>148</td>\n",
              "      <td>74</td>\n",
              "      <td>95</td>\n",
              "      <td>285001.5</td>\n",
              "    </tr>\n",
              "    <tr>\n",
              "      <th>2</th>\n",
              "      <td>3</td>\n",
              "      <td>686990</td>\n",
              "      <td>770762</td>\n",
              "      <td>2</td>\n",
              "      <td>132538</td>\n",
              "      <td>2</td>\n",
              "      <td>8</td>\n",
              "      <td>15</td>\n",
              "      <td>181</td>\n",
              "      <td>53</td>\n",
              "      <td>97</td>\n",
              "      <td>215386.0</td>\n",
              "    </tr>\n",
              "    <tr>\n",
              "      <th>3</th>\n",
              "      <td>4</td>\n",
              "      <td>573999</td>\n",
              "      <td>722381</td>\n",
              "      <td>4</td>\n",
              "      <td>101065</td>\n",
              "      <td>4</td>\n",
              "      <td>3</td>\n",
              "      <td>11</td>\n",
              "      <td>197</td>\n",
              "      <td>54</td>\n",
              "      <td>116</td>\n",
              "      <td>244295.5</td>\n",
              "    </tr>\n",
              "    <tr>\n",
              "      <th>4</th>\n",
              "      <td>5</td>\n",
              "      <td>691388</td>\n",
              "      <td>811335</td>\n",
              "      <td>6</td>\n",
              "      <td>61559</td>\n",
              "      <td>3</td>\n",
              "      <td>9</td>\n",
              "      <td>12</td>\n",
              "      <td>160</td>\n",
              "      <td>53</td>\n",
              "      <td>105</td>\n",
              "      <td>531114.5</td>\n",
              "    </tr>\n",
              "  </tbody>\n",
              "</table>\n",
              "</div>\n",
              "    <div class=\"colab-df-buttons\">\n",
              "\n",
              "  <div class=\"colab-df-container\">\n",
              "    <button class=\"colab-df-convert\" onclick=\"convertToInteractive('df-5fad4ad7-9091-4fd2-9909-5ca36398a1a4')\"\n",
              "            title=\"Convert this dataframe to an interactive table.\"\n",
              "            style=\"display:none;\">\n",
              "\n",
              "  <svg xmlns=\"http://www.w3.org/2000/svg\" height=\"24px\" viewBox=\"0 -960 960 960\">\n",
              "    <path d=\"M120-120v-720h720v720H120Zm60-500h600v-160H180v160Zm220 220h160v-160H400v160Zm0 220h160v-160H400v160ZM180-400h160v-160H180v160Zm440 0h160v-160H620v160ZM180-180h160v-160H180v160Zm440 0h160v-160H620v160Z\"/>\n",
              "  </svg>\n",
              "    </button>\n",
              "\n",
              "  <style>\n",
              "    .colab-df-container {\n",
              "      display:flex;\n",
              "      gap: 12px;\n",
              "    }\n",
              "\n",
              "    .colab-df-convert {\n",
              "      background-color: #E8F0FE;\n",
              "      border: none;\n",
              "      border-radius: 50%;\n",
              "      cursor: pointer;\n",
              "      display: none;\n",
              "      fill: #1967D2;\n",
              "      height: 32px;\n",
              "      padding: 0 0 0 0;\n",
              "      width: 32px;\n",
              "    }\n",
              "\n",
              "    .colab-df-convert:hover {\n",
              "      background-color: #E2EBFA;\n",
              "      box-shadow: 0px 1px 2px rgba(60, 64, 67, 0.3), 0px 1px 3px 1px rgba(60, 64, 67, 0.15);\n",
              "      fill: #174EA6;\n",
              "    }\n",
              "\n",
              "    .colab-df-buttons div {\n",
              "      margin-bottom: 4px;\n",
              "    }\n",
              "\n",
              "    [theme=dark] .colab-df-convert {\n",
              "      background-color: #3B4455;\n",
              "      fill: #D2E3FC;\n",
              "    }\n",
              "\n",
              "    [theme=dark] .colab-df-convert:hover {\n",
              "      background-color: #434B5C;\n",
              "      box-shadow: 0px 1px 3px 1px rgba(0, 0, 0, 0.15);\n",
              "      filter: drop-shadow(0px 1px 2px rgba(0, 0, 0, 0.3));\n",
              "      fill: #FFFFFF;\n",
              "    }\n",
              "  </style>\n",
              "\n",
              "    <script>\n",
              "      const buttonEl =\n",
              "        document.querySelector('#df-5fad4ad7-9091-4fd2-9909-5ca36398a1a4 button.colab-df-convert');\n",
              "      buttonEl.style.display =\n",
              "        google.colab.kernel.accessAllowed ? 'block' : 'none';\n",
              "\n",
              "      async function convertToInteractive(key) {\n",
              "        const element = document.querySelector('#df-5fad4ad7-9091-4fd2-9909-5ca36398a1a4');\n",
              "        const dataTable =\n",
              "          await google.colab.kernel.invokeFunction('convertToInteractive',\n",
              "                                                    [key], {});\n",
              "        if (!dataTable) return;\n",
              "\n",
              "        const docLinkHtml = 'Like what you see? Visit the ' +\n",
              "          '<a target=\"_blank\" href=https://colab.research.google.com/notebooks/data_table.ipynb>data table notebook</a>'\n",
              "          + ' to learn more about interactive tables.';\n",
              "        element.innerHTML = '';\n",
              "        dataTable['output_type'] = 'display_data';\n",
              "        await google.colab.output.renderOutput(dataTable, element);\n",
              "        const docLink = document.createElement('div');\n",
              "        docLink.innerHTML = docLinkHtml;\n",
              "        element.appendChild(docLink);\n",
              "      }\n",
              "    </script>\n",
              "  </div>\n",
              "\n",
              "\n",
              "<div id=\"df-b1e16a81-034b-437c-bda3-111097d5d3d6\">\n",
              "  <button class=\"colab-df-quickchart\" onclick=\"quickchart('df-b1e16a81-034b-437c-bda3-111097d5d3d6')\"\n",
              "            title=\"Suggest charts\"\n",
              "            style=\"display:none;\">\n",
              "\n",
              "<svg xmlns=\"http://www.w3.org/2000/svg\" height=\"24px\"viewBox=\"0 0 24 24\"\n",
              "     width=\"24px\">\n",
              "    <g>\n",
              "        <path d=\"M19 3H5c-1.1 0-2 .9-2 2v14c0 1.1.9 2 2 2h14c1.1 0 2-.9 2-2V5c0-1.1-.9-2-2-2zM9 17H7v-7h2v7zm4 0h-2V7h2v10zm4 0h-2v-4h2v4z\"/>\n",
              "    </g>\n",
              "</svg>\n",
              "  </button>\n",
              "\n",
              "<style>\n",
              "  .colab-df-quickchart {\n",
              "      --bg-color: #E8F0FE;\n",
              "      --fill-color: #1967D2;\n",
              "      --hover-bg-color: #E2EBFA;\n",
              "      --hover-fill-color: #174EA6;\n",
              "      --disabled-fill-color: #AAA;\n",
              "      --disabled-bg-color: #DDD;\n",
              "  }\n",
              "\n",
              "  [theme=dark] .colab-df-quickchart {\n",
              "      --bg-color: #3B4455;\n",
              "      --fill-color: #D2E3FC;\n",
              "      --hover-bg-color: #434B5C;\n",
              "      --hover-fill-color: #FFFFFF;\n",
              "      --disabled-bg-color: #3B4455;\n",
              "      --disabled-fill-color: #666;\n",
              "  }\n",
              "\n",
              "  .colab-df-quickchart {\n",
              "    background-color: var(--bg-color);\n",
              "    border: none;\n",
              "    border-radius: 50%;\n",
              "    cursor: pointer;\n",
              "    display: none;\n",
              "    fill: var(--fill-color);\n",
              "    height: 32px;\n",
              "    padding: 0;\n",
              "    width: 32px;\n",
              "  }\n",
              "\n",
              "  .colab-df-quickchart:hover {\n",
              "    background-color: var(--hover-bg-color);\n",
              "    box-shadow: 0 1px 2px rgba(60, 64, 67, 0.3), 0 1px 3px 1px rgba(60, 64, 67, 0.15);\n",
              "    fill: var(--button-hover-fill-color);\n",
              "  }\n",
              "\n",
              "  .colab-df-quickchart-complete:disabled,\n",
              "  .colab-df-quickchart-complete:disabled:hover {\n",
              "    background-color: var(--disabled-bg-color);\n",
              "    fill: var(--disabled-fill-color);\n",
              "    box-shadow: none;\n",
              "  }\n",
              "\n",
              "  .colab-df-spinner {\n",
              "    border: 2px solid var(--fill-color);\n",
              "    border-color: transparent;\n",
              "    border-bottom-color: var(--fill-color);\n",
              "    animation:\n",
              "      spin 1s steps(1) infinite;\n",
              "  }\n",
              "\n",
              "  @keyframes spin {\n",
              "    0% {\n",
              "      border-color: transparent;\n",
              "      border-bottom-color: var(--fill-color);\n",
              "      border-left-color: var(--fill-color);\n",
              "    }\n",
              "    20% {\n",
              "      border-color: transparent;\n",
              "      border-left-color: var(--fill-color);\n",
              "      border-top-color: var(--fill-color);\n",
              "    }\n",
              "    30% {\n",
              "      border-color: transparent;\n",
              "      border-left-color: var(--fill-color);\n",
              "      border-top-color: var(--fill-color);\n",
              "      border-right-color: var(--fill-color);\n",
              "    }\n",
              "    40% {\n",
              "      border-color: transparent;\n",
              "      border-right-color: var(--fill-color);\n",
              "      border-top-color: var(--fill-color);\n",
              "    }\n",
              "    60% {\n",
              "      border-color: transparent;\n",
              "      border-right-color: var(--fill-color);\n",
              "    }\n",
              "    80% {\n",
              "      border-color: transparent;\n",
              "      border-right-color: var(--fill-color);\n",
              "      border-bottom-color: var(--fill-color);\n",
              "    }\n",
              "    90% {\n",
              "      border-color: transparent;\n",
              "      border-bottom-color: var(--fill-color);\n",
              "    }\n",
              "  }\n",
              "</style>\n",
              "\n",
              "  <script>\n",
              "    async function quickchart(key) {\n",
              "      const quickchartButtonEl =\n",
              "        document.querySelector('#' + key + ' button');\n",
              "      quickchartButtonEl.disabled = true;  // To prevent multiple clicks.\n",
              "      quickchartButtonEl.classList.add('colab-df-spinner');\n",
              "      try {\n",
              "        const charts = await google.colab.kernel.invokeFunction(\n",
              "            'suggestCharts', [key], {});\n",
              "      } catch (error) {\n",
              "        console.error('Error during call to suggestCharts:', error);\n",
              "      }\n",
              "      quickchartButtonEl.classList.remove('colab-df-spinner');\n",
              "      quickchartButtonEl.classList.add('colab-df-quickchart-complete');\n",
              "    }\n",
              "    (() => {\n",
              "      let quickchartButtonEl =\n",
              "        document.querySelector('#df-b1e16a81-034b-437c-bda3-111097d5d3d6 button');\n",
              "      quickchartButtonEl.style.display =\n",
              "        google.colab.kernel.accessAllowed ? 'block' : 'none';\n",
              "    })();\n",
              "  </script>\n",
              "</div>\n",
              "\n",
              "    </div>\n",
              "  </div>\n"
            ],
            "application/vnd.google.colaboratory.intrinsic+json": {
              "type": "dataframe",
              "variable_name": "df",
              "summary": "{\n  \"name\": \"df\",\n  \"rows\": 1000,\n  \"fields\": [\n    {\n      \"column\": \"v.id\",\n      \"properties\": {\n        \"dtype\": \"number\",\n        \"std\": 288,\n        \"min\": 1,\n        \"max\": 1000,\n        \"num_unique_values\": 1000,\n        \"samples\": [\n          522,\n          738,\n          741\n        ],\n        \"semantic_type\": \"\",\n        \"description\": \"\"\n      }\n    },\n    {\n      \"column\": \"on road old\",\n      \"properties\": {\n        \"dtype\": \"number\",\n        \"std\": 58407,\n        \"min\": 500265,\n        \"max\": 699859,\n        \"num_unique_values\": 998,\n        \"samples\": [\n          658059,\n          601674,\n          617090\n        ],\n        \"semantic_type\": \"\",\n        \"description\": \"\"\n      }\n    },\n    {\n      \"column\": \"on road now\",\n      \"properties\": {\n        \"dtype\": \"number\",\n        \"std\": 57028,\n        \"min\": 700018,\n        \"max\": 899797,\n        \"num_unique_values\": 998,\n        \"samples\": [\n          755102,\n          863684,\n          734310\n        ],\n        \"semantic_type\": \"\",\n        \"description\": \"\"\n      }\n    },\n    {\n      \"column\": \"years\",\n      \"properties\": {\n        \"dtype\": \"number\",\n        \"std\": 1,\n        \"min\": 2,\n        \"max\": 7,\n        \"num_unique_values\": 6,\n        \"samples\": [\n          3,\n          6,\n          7\n        ],\n        \"semantic_type\": \"\",\n        \"description\": \"\"\n      }\n    },\n    {\n      \"column\": \"km\",\n      \"properties\": {\n        \"dtype\": \"number\",\n        \"std\": 29150,\n        \"min\": 50324,\n        \"max\": 149902,\n        \"num_unique_values\": 997,\n        \"samples\": [\n          61132,\n          62186,\n          137960\n        ],\n        \"semantic_type\": \"\",\n        \"description\": \"\"\n      }\n    },\n    {\n      \"column\": \"rating\",\n      \"properties\": {\n        \"dtype\": \"number\",\n        \"std\": 1,\n        \"min\": 1,\n        \"max\": 5,\n        \"num_unique_values\": 5,\n        \"samples\": [\n          5,\n          3,\n          2\n        ],\n        \"semantic_type\": \"\",\n        \"description\": \"\"\n      }\n    },\n    {\n      \"column\": \"condition\",\n      \"properties\": {\n        \"dtype\": \"number\",\n        \"std\": 2,\n        \"min\": 1,\n        \"max\": 10,\n        \"num_unique_values\": 10,\n        \"samples\": [\n          6,\n          9,\n          5\n        ],\n        \"semantic_type\": \"\",\n        \"description\": \"\"\n      }\n    },\n    {\n      \"column\": \"economy\",\n      \"properties\": {\n        \"dtype\": \"number\",\n        \"std\": 2,\n        \"min\": 8,\n        \"max\": 15,\n        \"num_unique_values\": 8,\n        \"samples\": [\n          9,\n          13,\n          14\n        ],\n        \"semantic_type\": \"\",\n        \"description\": \"\"\n      }\n    },\n    {\n      \"column\": \"top speed\",\n      \"properties\": {\n        \"dtype\": \"number\",\n        \"std\": 19,\n        \"min\": 135,\n        \"max\": 200,\n        \"num_unique_values\": 66,\n        \"samples\": [\n          155,\n          140,\n          177\n        ],\n        \"semantic_type\": \"\",\n        \"description\": \"\"\n      }\n    },\n    {\n      \"column\": \"hp\",\n      \"properties\": {\n        \"dtype\": \"number\",\n        \"std\": 20,\n        \"min\": 50,\n        \"max\": 120,\n        \"num_unique_values\": 71,\n        \"samples\": [\n          77,\n          73,\n          104\n        ],\n        \"semantic_type\": \"\",\n        \"description\": \"\"\n      }\n    },\n    {\n      \"column\": \"torque\",\n      \"properties\": {\n        \"dtype\": \"number\",\n        \"std\": 21,\n        \"min\": 68,\n        \"max\": 140,\n        \"num_unique_values\": 73,\n        \"samples\": [\n          105,\n          98,\n          139\n        ],\n        \"semantic_type\": \"\",\n        \"description\": \"\"\n      }\n    },\n    {\n      \"column\": \"current price\",\n      \"properties\": {\n        \"dtype\": \"number\",\n        \"std\": 126073.25914983758,\n        \"min\": 28226.5,\n        \"max\": 584267.5,\n        \"num_unique_values\": 1000,\n        \"samples\": [\n          383570.5,\n          506854.0,\n          146223.0\n        ],\n        \"semantic_type\": \"\",\n        \"description\": \"\"\n      }\n    }\n  ]\n}"
            }
          },
          "metadata": {},
          "execution_count": 287
        }
      ]
    },
    {
      "cell_type": "code",
      "source": [
        "df.isna().sum()"
      ],
      "metadata": {
        "colab": {
          "base_uri": "https://localhost:8080/"
        },
        "id": "H9tVEPCJjK5I",
        "outputId": "727f8050-1c72-43ba-b1b5-b00fbf0c2290"
      },
      "execution_count": 288,
      "outputs": [
        {
          "output_type": "execute_result",
          "data": {
            "text/plain": [
              "v.id             0\n",
              "on road old      0\n",
              "on road now      0\n",
              "years            0\n",
              "km               0\n",
              "rating           0\n",
              "condition        0\n",
              "economy          0\n",
              "top speed        0\n",
              "hp               0\n",
              "torque           0\n",
              "current price    0\n",
              "dtype: int64"
            ]
          },
          "metadata": {},
          "execution_count": 288
        }
      ]
    },
    {
      "cell_type": "code",
      "source": [
        "X = df.iloc[:, 3:-1]\n",
        "y = df.iloc[:, -1]"
      ],
      "metadata": {
        "id": "hEi58-WEjNte"
      },
      "execution_count": 289,
      "outputs": []
    },
    {
      "cell_type": "code",
      "source": [
        "X.shape, y.shape"
      ],
      "metadata": {
        "colab": {
          "base_uri": "https://localhost:8080/"
        },
        "id": "rU9aRJeyjc87",
        "outputId": "4aba6827-94c3-4b19-d792-0ab80c3d3710"
      },
      "execution_count": 290,
      "outputs": [
        {
          "output_type": "execute_result",
          "data": {
            "text/plain": [
              "((1000, 8), (1000,))"
            ]
          },
          "metadata": {},
          "execution_count": 290
        }
      ]
    },
    {
      "cell_type": "code",
      "source": [
        "y"
      ],
      "metadata": {
        "colab": {
          "base_uri": "https://localhost:8080/"
        },
        "id": "TqsTllmHkMWc",
        "outputId": "c4313d6a-eaae-4cdd-c29c-277382ad35a3"
      },
      "execution_count": 291,
      "outputs": [
        {
          "output_type": "execute_result",
          "data": {
            "text/plain": [
              "0      351318.0\n",
              "1      285001.5\n",
              "2      215386.0\n",
              "3      244295.5\n",
              "4      531114.5\n",
              "         ...   \n",
              "995    190744.0\n",
              "996    419748.0\n",
              "997    405871.0\n",
              "998     74398.0\n",
              "999    414938.5\n",
              "Name: current price, Length: 1000, dtype: float64"
            ]
          },
          "metadata": {},
          "execution_count": 291
        }
      ]
    },
    {
      "cell_type": "code",
      "source": [
        "from sklearn.model_selection import train_test_split\n",
        "X_train, X_test, y_train, y_test = train_test_split(X, y, test_size=0.2, random_state=2)"
      ],
      "metadata": {
        "id": "51XPyjMJkTX7"
      },
      "execution_count": 292,
      "outputs": []
    },
    {
      "cell_type": "code",
      "source": [
        "from sklearn.preprocessing import StandardScaler\n",
        "sc = StandardScaler()\n",
        "X_train = sc.fit_transform(X_train)\n",
        "X_test = sc.transform(X_test)"
      ],
      "metadata": {
        "id": "5whFTo1RdKWU"
      },
      "execution_count": 293,
      "outputs": []
    },
    {
      "cell_type": "code",
      "source": [
        "from tensorflow.keras.models import Sequential\n",
        "from tensorflow.keras.layers import Dense, Dropout\n",
        "from tensorflow.keras.losses import MeanSquaredError, Huber, MeanAbsoluteError\n",
        "from tensorflow.keras.metrics import RootMeanSquaredError\n",
        "from tensorflow.keras.optimizers import Adam\n",
        "from tensorflow.keras.callbacks import EarlyStopping\n"
      ],
      "metadata": {
        "id": "xPfdPQW9m7Be"
      },
      "execution_count": 310,
      "outputs": []
    },
    {
      "cell_type": "code",
      "source": [
        "model = Sequential()\n",
        "# model.add(Dense(128, activation='relu'))\n",
        "model.add(Dense(64, activation='relu', input_dim=X_train.shape[1]))\n",
        "model.add(Dropout(0.2))\n",
        "# model.add(Dense(64, activation='relu'))\n",
        "model.add(Dense(16, activation='relu'))\n",
        "model.add(Dense(1)) # O/P\n",
        "\n",
        "# mean_absolute_error\n",
        "model.compile(optimizer=Adam(learning_rate=0.001),\n",
        "              loss = MeanAbsoluteError(),\n",
        "              metrics = ['accuracy']\n",
        "              )"
      ],
      "metadata": {
        "id": "mAJdh5bFnI77"
      },
      "execution_count": 314,
      "outputs": []
    },
    {
      "cell_type": "code",
      "source": [
        "early_stopping = EarlyStopping(monitor='val_loss', patience=7)"
      ],
      "metadata": {
        "id": "nZ8JtaBxgG9v"
      },
      "execution_count": 315,
      "outputs": []
    },
    {
      "cell_type": "code",
      "source": [
        "history = model.fit(X_train, y_train, epochs=50,\n",
        "                    validation_split=0.2,\n",
        "                    verbose=2,\n",
        "                    batch_size=10,\n",
        "                    callbacks=[early_stopping])"
      ],
      "metadata": {
        "colab": {
          "base_uri": "https://localhost:8080/"
        },
        "id": "4nBL-UfmnKse",
        "outputId": "ab8b0f72-4181-4d73-d37f-18dab52efa70"
      },
      "execution_count": 316,
      "outputs": [
        {
          "output_type": "stream",
          "name": "stdout",
          "text": [
            "Epoch 1/50\n",
            "64/64 - 1s - loss: 308511.5312 - accuracy: 0.0000e+00 - val_loss: 303378.2500 - val_accuracy: 0.0000e+00 - 959ms/epoch - 15ms/step\n",
            "Epoch 2/50\n",
            "64/64 - 0s - loss: 308507.4375 - accuracy: 0.0000e+00 - val_loss: 303371.5000 - val_accuracy: 0.0000e+00 - 184ms/epoch - 3ms/step\n",
            "Epoch 3/50\n",
            "64/64 - 0s - loss: 308496.1875 - accuracy: 0.0000e+00 - val_loss: 303354.4688 - val_accuracy: 0.0000e+00 - 187ms/epoch - 3ms/step\n",
            "Epoch 4/50\n",
            "64/64 - 0s - loss: 308470.9062 - accuracy: 0.0000e+00 - val_loss: 303319.4375 - val_accuracy: 0.0000e+00 - 142ms/epoch - 2ms/step\n",
            "Epoch 5/50\n",
            "64/64 - 0s - loss: 308422.7188 - accuracy: 0.0000e+00 - val_loss: 303258.6250 - val_accuracy: 0.0000e+00 - 180ms/epoch - 3ms/step\n",
            "Epoch 6/50\n",
            "64/64 - 0s - loss: 308345.3125 - accuracy: 0.0000e+00 - val_loss: 303164.9062 - val_accuracy: 0.0000e+00 - 140ms/epoch - 2ms/step\n",
            "Epoch 7/50\n",
            "64/64 - 0s - loss: 308232.4375 - accuracy: 0.0000e+00 - val_loss: 303033.7812 - val_accuracy: 0.0000e+00 - 138ms/epoch - 2ms/step\n",
            "Epoch 8/50\n",
            "64/64 - 0s - loss: 308074.2188 - accuracy: 0.0000e+00 - val_loss: 302857.7500 - val_accuracy: 0.0000e+00 - 187ms/epoch - 3ms/step\n",
            "Epoch 9/50\n",
            "64/64 - 0s - loss: 307872.3125 - accuracy: 0.0000e+00 - val_loss: 302633.2812 - val_accuracy: 0.0000e+00 - 181ms/epoch - 3ms/step\n",
            "Epoch 10/50\n",
            "64/64 - 0s - loss: 307609.2500 - accuracy: 0.0000e+00 - val_loss: 302353.9688 - val_accuracy: 0.0000e+00 - 148ms/epoch - 2ms/step\n",
            "Epoch 11/50\n",
            "64/64 - 0s - loss: 307300.7188 - accuracy: 0.0000e+00 - val_loss: 302020.3438 - val_accuracy: 0.0000e+00 - 181ms/epoch - 3ms/step\n",
            "Epoch 12/50\n",
            "64/64 - 0s - loss: 306916.8125 - accuracy: 0.0000e+00 - val_loss: 301621.8438 - val_accuracy: 0.0000e+00 - 143ms/epoch - 2ms/step\n",
            "Epoch 13/50\n",
            "64/64 - 0s - loss: 306481.8750 - accuracy: 0.0000e+00 - val_loss: 301160.8750 - val_accuracy: 0.0000e+00 - 134ms/epoch - 2ms/step\n",
            "Epoch 14/50\n",
            "64/64 - 0s - loss: 305960.7188 - accuracy: 0.0000e+00 - val_loss: 300629.9688 - val_accuracy: 0.0000e+00 - 151ms/epoch - 2ms/step\n",
            "Epoch 15/50\n",
            "64/64 - 0s - loss: 305385.2812 - accuracy: 0.0000e+00 - val_loss: 300026.4688 - val_accuracy: 0.0000e+00 - 183ms/epoch - 3ms/step\n",
            "Epoch 16/50\n",
            "64/64 - 0s - loss: 304721.1875 - accuracy: 0.0000e+00 - val_loss: 299353.6562 - val_accuracy: 0.0000e+00 - 153ms/epoch - 2ms/step\n",
            "Epoch 17/50\n",
            "64/64 - 0s - loss: 303976.8438 - accuracy: 0.0000e+00 - val_loss: 298598.0312 - val_accuracy: 0.0000e+00 - 140ms/epoch - 2ms/step\n",
            "Epoch 18/50\n",
            "64/64 - 0s - loss: 303163.8438 - accuracy: 0.0000e+00 - val_loss: 297762.9375 - val_accuracy: 0.0000e+00 - 179ms/epoch - 3ms/step\n",
            "Epoch 19/50\n",
            "64/64 - 0s - loss: 302255.7812 - accuracy: 0.0000e+00 - val_loss: 296851.7188 - val_accuracy: 0.0000e+00 - 143ms/epoch - 2ms/step\n",
            "Epoch 20/50\n",
            "64/64 - 0s - loss: 301208.4375 - accuracy: 0.0000e+00 - val_loss: 295845.7188 - val_accuracy: 0.0000e+00 - 148ms/epoch - 2ms/step\n",
            "Epoch 21/50\n",
            "64/64 - 0s - loss: 300123.0312 - accuracy: 0.0000e+00 - val_loss: 294756.4375 - val_accuracy: 0.0000e+00 - 181ms/epoch - 3ms/step\n",
            "Epoch 22/50\n",
            "64/64 - 0s - loss: 298942.3125 - accuracy: 0.0000e+00 - val_loss: 293576.4688 - val_accuracy: 0.0000e+00 - 150ms/epoch - 2ms/step\n",
            "Epoch 23/50\n",
            "64/64 - 0s - loss: 297632.8125 - accuracy: 0.0000e+00 - val_loss: 292303.5938 - val_accuracy: 0.0000e+00 - 141ms/epoch - 2ms/step\n",
            "Epoch 24/50\n",
            "64/64 - 0s - loss: 296339.1562 - accuracy: 0.0000e+00 - val_loss: 290943.1875 - val_accuracy: 0.0000e+00 - 141ms/epoch - 2ms/step\n",
            "Epoch 25/50\n",
            "64/64 - 0s - loss: 294803.0625 - accuracy: 0.0000e+00 - val_loss: 289492.5625 - val_accuracy: 0.0000e+00 - 139ms/epoch - 2ms/step\n",
            "Epoch 26/50\n",
            "64/64 - 0s - loss: 293233.7812 - accuracy: 0.0000e+00 - val_loss: 287940.8750 - val_accuracy: 0.0000e+00 - 144ms/epoch - 2ms/step\n",
            "Epoch 27/50\n",
            "64/64 - 0s - loss: 291582.7500 - accuracy: 0.0000e+00 - val_loss: 286293.4375 - val_accuracy: 0.0000e+00 - 139ms/epoch - 2ms/step\n",
            "Epoch 28/50\n",
            "64/64 - 0s - loss: 289761.8125 - accuracy: 0.0000e+00 - val_loss: 284548.4688 - val_accuracy: 0.0000e+00 - 142ms/epoch - 2ms/step\n",
            "Epoch 29/50\n",
            "64/64 - 0s - loss: 287918.1875 - accuracy: 0.0000e+00 - val_loss: 282705.2500 - val_accuracy: 0.0000e+00 - 150ms/epoch - 2ms/step\n",
            "Epoch 30/50\n",
            "64/64 - 0s - loss: 285895.7188 - accuracy: 0.0000e+00 - val_loss: 280762.8125 - val_accuracy: 0.0000e+00 - 145ms/epoch - 2ms/step\n",
            "Epoch 31/50\n",
            "64/64 - 0s - loss: 283814.4688 - accuracy: 0.0000e+00 - val_loss: 278722.3750 - val_accuracy: 0.0000e+00 - 178ms/epoch - 3ms/step\n",
            "Epoch 32/50\n",
            "64/64 - 0s - loss: 281780.3750 - accuracy: 0.0000e+00 - val_loss: 276592.3125 - val_accuracy: 0.0000e+00 - 140ms/epoch - 2ms/step\n",
            "Epoch 33/50\n",
            "64/64 - 0s - loss: 279427.5000 - accuracy: 0.0000e+00 - val_loss: 274358.1875 - val_accuracy: 0.0000e+00 - 138ms/epoch - 2ms/step\n",
            "Epoch 34/50\n",
            "64/64 - 0s - loss: 277054.8750 - accuracy: 0.0000e+00 - val_loss: 272025.6562 - val_accuracy: 0.0000e+00 - 179ms/epoch - 3ms/step\n",
            "Epoch 35/50\n",
            "64/64 - 0s - loss: 274527.9062 - accuracy: 0.0000e+00 - val_loss: 269569.5625 - val_accuracy: 0.0000e+00 - 178ms/epoch - 3ms/step\n",
            "Epoch 36/50\n",
            "64/64 - 0s - loss: 271815.1875 - accuracy: 0.0000e+00 - val_loss: 267016.9688 - val_accuracy: 0.0000e+00 - 185ms/epoch - 3ms/step\n",
            "Epoch 37/50\n",
            "64/64 - 0s - loss: 269225.1875 - accuracy: 0.0000e+00 - val_loss: 264368.4688 - val_accuracy: 0.0000e+00 - 209ms/epoch - 3ms/step\n",
            "Epoch 38/50\n",
            "64/64 - 0s - loss: 266267.1250 - accuracy: 0.0000e+00 - val_loss: 261603.5781 - val_accuracy: 0.0000e+00 - 206ms/epoch - 3ms/step\n",
            "Epoch 39/50\n",
            "64/64 - 0s - loss: 263354.2812 - accuracy: 0.0000e+00 - val_loss: 258716.9062 - val_accuracy: 0.0000e+00 - 202ms/epoch - 3ms/step\n",
            "Epoch 40/50\n",
            "64/64 - 0s - loss: 260236.0312 - accuracy: 0.0000e+00 - val_loss: 255742.5312 - val_accuracy: 0.0000e+00 - 237ms/epoch - 4ms/step\n",
            "Epoch 41/50\n",
            "64/64 - 0s - loss: 257110.7500 - accuracy: 0.0000e+00 - val_loss: 252691.5938 - val_accuracy: 0.0000e+00 - 224ms/epoch - 4ms/step\n",
            "Epoch 42/50\n",
            "64/64 - 0s - loss: 253837.9531 - accuracy: 0.0000e+00 - val_loss: 249522.1250 - val_accuracy: 0.0000e+00 - 229ms/epoch - 4ms/step\n",
            "Epoch 43/50\n",
            "64/64 - 0s - loss: 250693.4062 - accuracy: 0.0000e+00 - val_loss: 246276.9531 - val_accuracy: 0.0000e+00 - 190ms/epoch - 3ms/step\n",
            "Epoch 44/50\n",
            "64/64 - 0s - loss: 247232.7812 - accuracy: 0.0000e+00 - val_loss: 242947.8750 - val_accuracy: 0.0000e+00 - 230ms/epoch - 4ms/step\n",
            "Epoch 45/50\n",
            "64/64 - 0s - loss: 243841.5938 - accuracy: 0.0000e+00 - val_loss: 239497.8438 - val_accuracy: 0.0000e+00 - 246ms/epoch - 4ms/step\n",
            "Epoch 46/50\n",
            "64/64 - 0s - loss: 240555.8438 - accuracy: 0.0000e+00 - val_loss: 235993.6250 - val_accuracy: 0.0000e+00 - 239ms/epoch - 4ms/step\n",
            "Epoch 47/50\n",
            "64/64 - 0s - loss: 236499.4531 - accuracy: 0.0000e+00 - val_loss: 232400.4531 - val_accuracy: 0.0000e+00 - 237ms/epoch - 4ms/step\n",
            "Epoch 48/50\n",
            "64/64 - 0s - loss: 232656.9219 - accuracy: 0.0000e+00 - val_loss: 228771.7969 - val_accuracy: 0.0000e+00 - 165ms/epoch - 3ms/step\n",
            "Epoch 49/50\n",
            "64/64 - 0s - loss: 229346.5000 - accuracy: 0.0000e+00 - val_loss: 225043.8281 - val_accuracy: 0.0000e+00 - 178ms/epoch - 3ms/step\n",
            "Epoch 50/50\n",
            "64/64 - 0s - loss: 224958.7031 - accuracy: 0.0000e+00 - val_loss: 221221.4531 - val_accuracy: 0.0000e+00 - 189ms/epoch - 3ms/step\n"
          ]
        }
      ]
    },
    {
      "cell_type": "code",
      "source": [
        "import matplotlib.pyplot as plt\n",
        "\n",
        "x_values = range(1, len(history.history['loss']) + 1) # To make the x-axis count from 1\n",
        "\n",
        "plt.plot(x_values, history.history['loss'])\n",
        "plt.plot(x_values, history.history['val_loss'])\n",
        "\n",
        "plt.title('Model Loss Plot')\n",
        "plt.ylabel('Loss')\n",
        "plt.xlabel('epochs')\n",
        "\n",
        "plt.legend(['training data', 'validation data'], loc='upper right')\n",
        "\n",
        "plt.show()"
      ],
      "metadata": {
        "colab": {
          "base_uri": "https://localhost:8080/",
          "height": 472
        },
        "id": "b2f6iYNhoiD_",
        "outputId": "def8c0a0-c6c9-4044-f06f-acf810981f71"
      },
      "execution_count": 298,
      "outputs": [
        {
          "output_type": "display_data",
          "data": {
            "text/plain": [
              "<Figure size 640x480 with 1 Axes>"
            ],
            "image/png": "[encoded data removed]"
          },
          "metadata": {}
        }
      ]
    },
    {
      "cell_type": "code",
      "source": [
        "import matplotlib.pyplot as plt\n",
        "\n",
        "x_values = range(1, len(history.history['accuracy']) + 1) # To make the x-axis count from 1\n",
        "\n",
        "plt.plot(x_values, history.history['accuracy'])\n",
        "plt.plot(x_values, history.history['val_accuracy'])\n",
        "\n",
        "plt.title('Model Accuracy Plot')\n",
        "plt.ylabel('Accuracy')\n",
        "plt.xlabel('epochs')\n",
        "\n",
        "plt.legend(['training data', 'validation data'], loc='upper right')\n",
        "\n",
        "plt.show()"
      ],
      "metadata": {
        "colab": {
          "base_uri": "https://localhost:8080/",
          "height": 472
        },
        "id": "Lp43iuxJXqIx",
        "outputId": "a33dbd23-c20c-4a21-949a-7668fcf5d30b"
      },
      "execution_count": 299,
      "outputs": [
        {
          "output_type": "display_data",
          "data": {
            "text/plain": [
              "<Figure size 640x480 with 1 Axes>"
            ],
            "image/png": "[encoded data removed]"
          },
          "metadata": {}
        }
      ]
    },
    {
      "cell_type": "code",
      "source": [
        "model.evaluate(X_test, y_test)"
      ],
      "metadata": {
        "colab": {
          "base_uri": "https://localhost:8080/"
        },
        "id": "S1EU7VAWnMzz",
        "outputId": "bc199e7b-13f1-4e1e-84da-62ceb6792533"
      },
      "execution_count": 300,
      "outputs": [
        {
          "output_type": "stream",
          "name": "stdout",
          "text": [
            "7/7 [==============================] - 0s 2ms/step - loss: 1902243328.0000 - accuracy: 0.0000e+00\n"
          ]
        },
        {
          "output_type": "execute_result",
          "data": {
            "text/plain": [
              "[1902243328.0, 0.0]"
            ]
          },
          "metadata": {},
          "execution_count": 300
        }
      ]
    },
    {
      "cell_type": "code",
      "source": [
        "test_pred = model.predict(X_test)"
      ],
      "metadata": {
        "colab": {
          "base_uri": "https://localhost:8080/"
        },
        "id": "9QZBMaXeneoP",
        "outputId": "7943e763-9ad0-4ba1-992f-8efcdb848e14"
      },
      "execution_count": 301,
      "outputs": [
        {
          "output_type": "stream",
          "name": "stdout",
          "text": [
            "7/7 [==============================] - 0s 3ms/step\n"
          ]
        }
      ]
    },
    {
      "cell_type": "code",
      "source": [
        "from sklearn.metrics import r2_score"
      ],
      "metadata": {
        "id": "GMInrEFVngIV"
      },
      "execution_count": 302,
      "outputs": []
    },
    {
      "cell_type": "code",
      "source": [
        "r2_test = r2_score(test_pred, y_test)\n",
        "print(\"R Squared value of test data:\", r2_test)"
      ],
      "metadata": {
        "colab": {
          "base_uri": "https://localhost:8080/"
        },
        "id": "di4oIzhenlYu",
        "outputId": "fa0c66d0-4f73-453f-aa1a-252b77f89d6f"
      },
      "execution_count": 303,
      "outputs": [
        {
          "output_type": "stream",
          "name": "stdout",
          "text": [
            "R Squared value of test data: 0.8645127386113675\n"
          ]
        }
      ]
    },
    {
      "cell_type": "code",
      "source": [
        "input_data = (\n",
        "          6,54712,4,7,12,148,106,115\n",
        ")\n",
        "input_data_as_np_array = np.asarray(input_data)\n",
        "\n",
        "input_data_reshaped = input_data_as_np_array.reshape(1, -1)\n",
        "\n",
        "input_data_std = sc.transform(input_data_reshaped)\n",
        "\n",
        "prediction = model.predict(input_data_std)\n",
        "\n",
        "print(prediction)"
      ],
      "metadata": {
        "colab": {
          "base_uri": "https://localhost:8080/"
        },
        "id": "_MetswuZnn4s",
        "outputId": "51cdb777-1d97-42a9-fa62-6f7eecb01371"
      },
      "execution_count": 304,
      "outputs": [
        {
          "output_type": "stream",
          "name": "stdout",
          "text": [
            "1/1 [==============================] - 0s 21ms/step\n",
            "[[503192.66]]\n"
          ]
        },
        {
          "output_type": "stream",
          "name": "stderr",
          "text": [
            "/usr/local/lib/python3.10/dist-packages/sklearn/base.py:439: UserWarning: X does not have valid feature names, but StandardScaler was fitted with feature names\n",
            "  warnings.warn(\n"
          ]
        }
      ]
    },
    {
      "cell_type": "code",
      "source": [],
      "metadata": {
        "id": "jA6EtFjngoIY"
      },
      "execution_count": 304,
      "outputs": []
    }
  ]
}